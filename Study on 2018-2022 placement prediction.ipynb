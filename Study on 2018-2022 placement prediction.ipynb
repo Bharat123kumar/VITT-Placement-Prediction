{
 "cells": [
  {
   "cell_type": "code",
   "execution_count": 1,
   "metadata": {},
   "outputs": [],
   "source": [
    "import pandas as pd"
   ]
  },
  {
   "cell_type": "code",
   "execution_count": 2,
   "metadata": {},
   "outputs": [],
   "source": [
    "df=pd.read_excel('DATA/2018-22 - Copy.xlsx')"
   ]
  },
  {
   "cell_type": "code",
   "execution_count": 3,
   "metadata": {},
   "outputs": [
    {
     "data": {
      "text/html": [
       "<div>\n",
       "<style scoped>\n",
       "    .dataframe tbody tr th:only-of-type {\n",
       "        vertical-align: middle;\n",
       "    }\n",
       "\n",
       "    .dataframe tbody tr th {\n",
       "        vertical-align: top;\n",
       "    }\n",
       "\n",
       "    .dataframe thead th {\n",
       "        text-align: right;\n",
       "    }\n",
       "</style>\n",
       "<table border=\"1\" class=\"dataframe\">\n",
       "  <thead>\n",
       "    <tr style=\"text-align: right;\">\n",
       "      <th></th>\n",
       "      <th>REGISTER  \\nNUMBER</th>\n",
       "      <th>CRT REGISTERED (Y/N)</th>\n",
       "      <th>BRANCH</th>\n",
       "      <th>GENDER</th>\n",
       "      <th>Helper</th>\n",
       "      <th>Placement Status</th>\n",
       "      <th>GRADE X \\n(% or CGPA)</th>\n",
       "      <th>GRADE X \\n(%)</th>\n",
       "      <th>GRADE X \\n(CGPA)</th>\n",
       "      <th>INTER OR POLY</th>\n",
       "      <th>GRADE XII\\n (% or CGPA)</th>\n",
       "      <th>GRADE XII\\n OR POLY(%)</th>\n",
       "      <th>UG\\n (%)</th>\n",
       "      <th>UG\\n(CGPA)</th>\n",
       "      <th>NO. OF BACKLOGS</th>\n",
       "      <th>EAMCET/EAPCET Rank.</th>\n",
       "    </tr>\n",
       "  </thead>\n",
       "  <tbody>\n",
       "    <tr>\n",
       "      <th>0</th>\n",
       "      <td>18L31A0109</td>\n",
       "      <td>CRT</td>\n",
       "      <td>CIVIL</td>\n",
       "      <td>Male</td>\n",
       "      <td>NaN</td>\n",
       "      <td>Placed</td>\n",
       "      <td>98.0</td>\n",
       "      <td>98.0</td>\n",
       "      <td>10.315789</td>\n",
       "      <td>I</td>\n",
       "      <td>95.7</td>\n",
       "      <td>95.7</td>\n",
       "      <td>79.0</td>\n",
       "      <td>8.50</td>\n",
       "      <td>0</td>\n",
       "      <td>NaN</td>\n",
       "    </tr>\n",
       "    <tr>\n",
       "      <th>1</th>\n",
       "      <td>18L31A0133</td>\n",
       "      <td>CRT</td>\n",
       "      <td>CIVIL</td>\n",
       "      <td>Male</td>\n",
       "      <td>NaN</td>\n",
       "      <td>Placed</td>\n",
       "      <td>8.8</td>\n",
       "      <td>83.6</td>\n",
       "      <td>8.800000</td>\n",
       "      <td>I</td>\n",
       "      <td>92.7</td>\n",
       "      <td>92.7</td>\n",
       "      <td>70.0</td>\n",
       "      <td>7.90</td>\n",
       "      <td>0</td>\n",
       "      <td>NaN</td>\n",
       "    </tr>\n",
       "    <tr>\n",
       "      <th>2</th>\n",
       "      <td>18L31A0147</td>\n",
       "      <td>CRT</td>\n",
       "      <td>CIVIL</td>\n",
       "      <td>Female</td>\n",
       "      <td>NaN</td>\n",
       "      <td>Placed</td>\n",
       "      <td>88.0</td>\n",
       "      <td>88.0</td>\n",
       "      <td>9.263158</td>\n",
       "      <td>I</td>\n",
       "      <td>91.0</td>\n",
       "      <td>91.0</td>\n",
       "      <td>80.0</td>\n",
       "      <td>8.75</td>\n",
       "      <td>0</td>\n",
       "      <td>NaN</td>\n",
       "    </tr>\n",
       "    <tr>\n",
       "      <th>3</th>\n",
       "      <td>18L31A0160</td>\n",
       "      <td>CRT</td>\n",
       "      <td>CIVIL</td>\n",
       "      <td>Female</td>\n",
       "      <td>NaN</td>\n",
       "      <td>Placed</td>\n",
       "      <td>75.0</td>\n",
       "      <td>75.0</td>\n",
       "      <td>7.894737</td>\n",
       "      <td>I</td>\n",
       "      <td>68.0</td>\n",
       "      <td>68.0</td>\n",
       "      <td>70.0</td>\n",
       "      <td>7.00</td>\n",
       "      <td>1</td>\n",
       "      <td>NaN</td>\n",
       "    </tr>\n",
       "    <tr>\n",
       "      <th>4</th>\n",
       "      <td>18L31A0185</td>\n",
       "      <td>CRT</td>\n",
       "      <td>CIVIL</td>\n",
       "      <td>Male</td>\n",
       "      <td>NaN</td>\n",
       "      <td>Placed</td>\n",
       "      <td>90.0</td>\n",
       "      <td>90.0</td>\n",
       "      <td>9.473684</td>\n",
       "      <td>I</td>\n",
       "      <td>89.8</td>\n",
       "      <td>89.8</td>\n",
       "      <td>72.0</td>\n",
       "      <td>7.90</td>\n",
       "      <td>0</td>\n",
       "      <td>NaN</td>\n",
       "    </tr>\n",
       "  </tbody>\n",
       "</table>\n",
       "</div>"
      ],
      "text/plain": [
       "  REGISTER  \\nNUMBER CRT REGISTERED (Y/N) BRANCH  GENDER  Helper  \\\n",
       "0         18L31A0109                  CRT  CIVIL    Male     NaN   \n",
       "1         18L31A0133                  CRT  CIVIL    Male     NaN   \n",
       "2         18L31A0147                  CRT  CIVIL  Female     NaN   \n",
       "3         18L31A0160                  CRT  CIVIL  Female     NaN   \n",
       "4         18L31A0185                  CRT  CIVIL    Male     NaN   \n",
       "\n",
       "  Placement Status  GRADE X \\n(% or CGPA)  GRADE X \\n(%)  GRADE X \\n(CGPA)  \\\n",
       "0           Placed                   98.0           98.0         10.315789   \n",
       "1           Placed                    8.8           83.6          8.800000   \n",
       "2           Placed                   88.0           88.0          9.263158   \n",
       "3           Placed                   75.0           75.0          7.894737   \n",
       "4           Placed                   90.0           90.0          9.473684   \n",
       "\n",
       "  INTER OR POLY  GRADE XII\\n (% or CGPA)  GRADE XII\\n OR POLY(%)  UG\\n (%)  \\\n",
       "0             I                     95.7                    95.7      79.0   \n",
       "1             I                     92.7                    92.7      70.0   \n",
       "2             I                     91.0                    91.0      80.0   \n",
       "3             I                     68.0                    68.0      70.0   \n",
       "4             I                     89.8                    89.8      72.0   \n",
       "\n",
       "   UG\\n(CGPA)  NO. OF BACKLOGS  EAMCET/EAPCET Rank.  \n",
       "0        8.50                0                  NaN  \n",
       "1        7.90                0                  NaN  \n",
       "2        8.75                0                  NaN  \n",
       "3        7.00                1                  NaN  \n",
       "4        7.90                0                  NaN  "
      ]
     },
     "execution_count": 3,
     "metadata": {},
     "output_type": "execute_result"
    }
   ],
   "source": [
    "df.head()"
   ]
  },
  {
   "cell_type": "code",
   "execution_count": 4,
   "metadata": {},
   "outputs": [
    {
     "data": {
      "text/plain": [
       "Index(['REGISTER  \\nNUMBER', 'CRT REGISTERED (Y/N)', 'BRANCH', 'GENDER',\n",
       "       'Helper', 'Placement Status', 'GRADE X \\n(% or CGPA)', 'GRADE X \\n(%)',\n",
       "       'GRADE X \\n(CGPA)', 'INTER OR POLY', 'GRADE XII\\n (% or CGPA)',\n",
       "       'GRADE XII\\n OR POLY(%)', 'UG\\n (%)', 'UG\\n(CGPA)', 'NO. OF BACKLOGS',\n",
       "       'EAMCET/EAPCET Rank.'],\n",
       "      dtype='object')"
      ]
     },
     "execution_count": 4,
     "metadata": {},
     "output_type": "execute_result"
    }
   ],
   "source": [
    "df.columns"
   ]
  },
  {
   "cell_type": "code",
   "execution_count": 5,
   "metadata": {},
   "outputs": [],
   "source": [
    "df.drop(labels=['REGISTER  \\nNUMBER','Helper','GRADE X \\n(%)', 'GRADE X \\n(% or CGPA)','GRADE XII\\n (% or CGPA)', 'UG\\n (%)','EAMCET/EAPCET Rank.'],axis=1,inplace=True)"
   ]
  },
  {
   "cell_type": "code",
   "execution_count": 6,
   "metadata": {},
   "outputs": [
    {
     "data": {
      "text/plain": [
       "Index(['CRT REGISTERED (Y/N)', 'BRANCH', 'GENDER', 'Placement Status',\n",
       "       'GRADE X \\n(CGPA)', 'INTER OR POLY', 'GRADE XII\\n OR POLY(%)',\n",
       "       'UG\\n(CGPA)', 'NO. OF BACKLOGS'],\n",
       "      dtype='object')"
      ]
     },
     "execution_count": 6,
     "metadata": {},
     "output_type": "execute_result"
    }
   ],
   "source": [
    "df.columns"
   ]
  },
  {
   "cell_type": "code",
   "execution_count": 7,
   "metadata": {},
   "outputs": [
    {
     "data": {
      "text/plain": [
       "Placement Status\n",
       "Placed       352\n",
       "Unplaced    1751\n",
       "Name: NO. OF BACKLOGS, dtype: int64"
      ]
     },
     "execution_count": 7,
     "metadata": {},
     "output_type": "execute_result"
    }
   ],
   "source": [
    "df.groupby(by='Placement Status')['NO. OF BACKLOGS'].sum()"
   ]
  },
  {
   "cell_type": "code",
   "execution_count": 8,
   "metadata": {},
   "outputs": [
    {
     "data": {
      "text/html": [
       "<div>\n",
       "<style scoped>\n",
       "    .dataframe tbody tr th:only-of-type {\n",
       "        vertical-align: middle;\n",
       "    }\n",
       "\n",
       "    .dataframe tbody tr th {\n",
       "        vertical-align: top;\n",
       "    }\n",
       "\n",
       "    .dataframe thead th {\n",
       "        text-align: right;\n",
       "    }\n",
       "</style>\n",
       "<table border=\"1\" class=\"dataframe\">\n",
       "  <thead>\n",
       "    <tr style=\"text-align: right;\">\n",
       "      <th></th>\n",
       "      <th>GRADE X \\n(CGPA)</th>\n",
       "      <th>GRADE XII\\n OR POLY(%)</th>\n",
       "      <th>UG\\n(CGPA)</th>\n",
       "      <th>NO. OF BACKLOGS</th>\n",
       "    </tr>\n",
       "  </thead>\n",
       "  <tbody>\n",
       "    <tr>\n",
       "      <th>count</th>\n",
       "      <td>1070.000000</td>\n",
       "      <td>1070.000000</td>\n",
       "      <td>1070.000000</td>\n",
       "      <td>1070.000000</td>\n",
       "    </tr>\n",
       "    <tr>\n",
       "      <th>mean</th>\n",
       "      <td>8.861148</td>\n",
       "      <td>84.559547</td>\n",
       "      <td>7.624080</td>\n",
       "      <td>1.965421</td>\n",
       "    </tr>\n",
       "    <tr>\n",
       "      <th>std</th>\n",
       "      <td>0.892135</td>\n",
       "      <td>11.751180</td>\n",
       "      <td>1.333913</td>\n",
       "      <td>4.290844</td>\n",
       "    </tr>\n",
       "    <tr>\n",
       "      <th>min</th>\n",
       "      <td>4.200000</td>\n",
       "      <td>0.000000</td>\n",
       "      <td>1.820000</td>\n",
       "      <td>0.000000</td>\n",
       "    </tr>\n",
       "    <tr>\n",
       "      <th>25%</th>\n",
       "      <td>8.421053</td>\n",
       "      <td>77.825000</td>\n",
       "      <td>7.005000</td>\n",
       "      <td>0.000000</td>\n",
       "    </tr>\n",
       "    <tr>\n",
       "      <th>50%</th>\n",
       "      <td>9.000000</td>\n",
       "      <td>87.500000</td>\n",
       "      <td>7.900000</td>\n",
       "      <td>0.000000</td>\n",
       "    </tr>\n",
       "    <tr>\n",
       "      <th>75%</th>\n",
       "      <td>9.500000</td>\n",
       "      <td>93.300000</td>\n",
       "      <td>8.556000</td>\n",
       "      <td>2.000000</td>\n",
       "    </tr>\n",
       "    <tr>\n",
       "      <th>max</th>\n",
       "      <td>10.526316</td>\n",
       "      <td>98.800000</td>\n",
       "      <td>9.820000</td>\n",
       "      <td>26.000000</td>\n",
       "    </tr>\n",
       "  </tbody>\n",
       "</table>\n",
       "</div>"
      ],
      "text/plain": [
       "       GRADE X \\n(CGPA)  GRADE XII\\n OR POLY(%)   UG\\n(CGPA)  NO. OF BACKLOGS\n",
       "count       1070.000000             1070.000000  1070.000000      1070.000000\n",
       "mean           8.861148               84.559547     7.624080         1.965421\n",
       "std            0.892135               11.751180     1.333913         4.290844\n",
       "min            4.200000                0.000000     1.820000         0.000000\n",
       "25%            8.421053               77.825000     7.005000         0.000000\n",
       "50%            9.000000               87.500000     7.900000         0.000000\n",
       "75%            9.500000               93.300000     8.556000         2.000000\n",
       "max           10.526316               98.800000     9.820000        26.000000"
      ]
     },
     "execution_count": 8,
     "metadata": {},
     "output_type": "execute_result"
    }
   ],
   "source": [
    "df.describe()"
   ]
  },
  {
   "cell_type": "code",
   "execution_count": 9,
   "metadata": {},
   "outputs": [
    {
     "data": {
      "text/html": [
       "<div>\n",
       "<style scoped>\n",
       "    .dataframe tbody tr th:only-of-type {\n",
       "        vertical-align: middle;\n",
       "    }\n",
       "\n",
       "    .dataframe tbody tr th {\n",
       "        vertical-align: top;\n",
       "    }\n",
       "\n",
       "    .dataframe thead th {\n",
       "        text-align: right;\n",
       "    }\n",
       "</style>\n",
       "<table border=\"1\" class=\"dataframe\">\n",
       "  <thead>\n",
       "    <tr style=\"text-align: right;\">\n",
       "      <th></th>\n",
       "      <th>CRT REGISTERED (Y/N)</th>\n",
       "      <th>BRANCH</th>\n",
       "      <th>GENDER</th>\n",
       "      <th>Placement Status</th>\n",
       "      <th>GRADE X \\n(CGPA)</th>\n",
       "      <th>INTER OR POLY</th>\n",
       "      <th>GRADE XII\\n OR POLY(%)</th>\n",
       "      <th>UG\\n(CGPA)</th>\n",
       "      <th>NO. OF BACKLOGS</th>\n",
       "    </tr>\n",
       "  </thead>\n",
       "  <tbody>\n",
       "    <tr>\n",
       "      <th>count</th>\n",
       "      <td>1070</td>\n",
       "      <td>1070</td>\n",
       "      <td>1070</td>\n",
       "      <td>1070</td>\n",
       "      <td>1070.000000</td>\n",
       "      <td>1070</td>\n",
       "      <td>1070.000000</td>\n",
       "      <td>1070.000000</td>\n",
       "      <td>1070.000000</td>\n",
       "    </tr>\n",
       "    <tr>\n",
       "      <th>unique</th>\n",
       "      <td>2</td>\n",
       "      <td>7</td>\n",
       "      <td>4</td>\n",
       "      <td>2</td>\n",
       "      <td>NaN</td>\n",
       "      <td>2</td>\n",
       "      <td>NaN</td>\n",
       "      <td>NaN</td>\n",
       "      <td>NaN</td>\n",
       "    </tr>\n",
       "    <tr>\n",
       "      <th>top</th>\n",
       "      <td>CRT</td>\n",
       "      <td>ME</td>\n",
       "      <td>Male</td>\n",
       "      <td>Placed</td>\n",
       "      <td>NaN</td>\n",
       "      <td>I</td>\n",
       "      <td>NaN</td>\n",
       "      <td>NaN</td>\n",
       "      <td>NaN</td>\n",
       "    </tr>\n",
       "    <tr>\n",
       "      <th>freq</th>\n",
       "      <td>790</td>\n",
       "      <td>253</td>\n",
       "      <td>595</td>\n",
       "      <td>699</td>\n",
       "      <td>NaN</td>\n",
       "      <td>858</td>\n",
       "      <td>NaN</td>\n",
       "      <td>NaN</td>\n",
       "      <td>NaN</td>\n",
       "    </tr>\n",
       "    <tr>\n",
       "      <th>mean</th>\n",
       "      <td>NaN</td>\n",
       "      <td>NaN</td>\n",
       "      <td>NaN</td>\n",
       "      <td>NaN</td>\n",
       "      <td>8.861148</td>\n",
       "      <td>NaN</td>\n",
       "      <td>84.559547</td>\n",
       "      <td>7.624080</td>\n",
       "      <td>1.965421</td>\n",
       "    </tr>\n",
       "    <tr>\n",
       "      <th>std</th>\n",
       "      <td>NaN</td>\n",
       "      <td>NaN</td>\n",
       "      <td>NaN</td>\n",
       "      <td>NaN</td>\n",
       "      <td>0.892135</td>\n",
       "      <td>NaN</td>\n",
       "      <td>11.751180</td>\n",
       "      <td>1.333913</td>\n",
       "      <td>4.290844</td>\n",
       "    </tr>\n",
       "    <tr>\n",
       "      <th>min</th>\n",
       "      <td>NaN</td>\n",
       "      <td>NaN</td>\n",
       "      <td>NaN</td>\n",
       "      <td>NaN</td>\n",
       "      <td>4.200000</td>\n",
       "      <td>NaN</td>\n",
       "      <td>0.000000</td>\n",
       "      <td>1.820000</td>\n",
       "      <td>0.000000</td>\n",
       "    </tr>\n",
       "    <tr>\n",
       "      <th>25%</th>\n",
       "      <td>NaN</td>\n",
       "      <td>NaN</td>\n",
       "      <td>NaN</td>\n",
       "      <td>NaN</td>\n",
       "      <td>8.421053</td>\n",
       "      <td>NaN</td>\n",
       "      <td>77.825000</td>\n",
       "      <td>7.005000</td>\n",
       "      <td>0.000000</td>\n",
       "    </tr>\n",
       "    <tr>\n",
       "      <th>50%</th>\n",
       "      <td>NaN</td>\n",
       "      <td>NaN</td>\n",
       "      <td>NaN</td>\n",
       "      <td>NaN</td>\n",
       "      <td>9.000000</td>\n",
       "      <td>NaN</td>\n",
       "      <td>87.500000</td>\n",
       "      <td>7.900000</td>\n",
       "      <td>0.000000</td>\n",
       "    </tr>\n",
       "    <tr>\n",
       "      <th>75%</th>\n",
       "      <td>NaN</td>\n",
       "      <td>NaN</td>\n",
       "      <td>NaN</td>\n",
       "      <td>NaN</td>\n",
       "      <td>9.500000</td>\n",
       "      <td>NaN</td>\n",
       "      <td>93.300000</td>\n",
       "      <td>8.556000</td>\n",
       "      <td>2.000000</td>\n",
       "    </tr>\n",
       "    <tr>\n",
       "      <th>max</th>\n",
       "      <td>NaN</td>\n",
       "      <td>NaN</td>\n",
       "      <td>NaN</td>\n",
       "      <td>NaN</td>\n",
       "      <td>10.526316</td>\n",
       "      <td>NaN</td>\n",
       "      <td>98.800000</td>\n",
       "      <td>9.820000</td>\n",
       "      <td>26.000000</td>\n",
       "    </tr>\n",
       "  </tbody>\n",
       "</table>\n",
       "</div>"
      ],
      "text/plain": [
       "       CRT REGISTERED (Y/N) BRANCH GENDER Placement Status  GRADE X \\n(CGPA)  \\\n",
       "count                  1070   1070   1070             1070       1070.000000   \n",
       "unique                    2      7      4                2               NaN   \n",
       "top                     CRT     ME   Male           Placed               NaN   \n",
       "freq                    790    253    595              699               NaN   \n",
       "mean                    NaN    NaN    NaN              NaN          8.861148   \n",
       "std                     NaN    NaN    NaN              NaN          0.892135   \n",
       "min                     NaN    NaN    NaN              NaN          4.200000   \n",
       "25%                     NaN    NaN    NaN              NaN          8.421053   \n",
       "50%                     NaN    NaN    NaN              NaN          9.000000   \n",
       "75%                     NaN    NaN    NaN              NaN          9.500000   \n",
       "max                     NaN    NaN    NaN              NaN         10.526316   \n",
       "\n",
       "       INTER OR POLY  GRADE XII\\n OR POLY(%)   UG\\n(CGPA)  NO. OF BACKLOGS  \n",
       "count           1070             1070.000000  1070.000000      1070.000000  \n",
       "unique             2                     NaN          NaN              NaN  \n",
       "top                I                     NaN          NaN              NaN  \n",
       "freq             858                     NaN          NaN              NaN  \n",
       "mean             NaN               84.559547     7.624080         1.965421  \n",
       "std              NaN               11.751180     1.333913         4.290844  \n",
       "min              NaN                0.000000     1.820000         0.000000  \n",
       "25%              NaN               77.825000     7.005000         0.000000  \n",
       "50%              NaN               87.500000     7.900000         0.000000  \n",
       "75%              NaN               93.300000     8.556000         2.000000  \n",
       "max              NaN               98.800000     9.820000        26.000000  "
      ]
     },
     "execution_count": 9,
     "metadata": {},
     "output_type": "execute_result"
    }
   ],
   "source": [
    "df.describe(include='all')"
   ]
  },
  {
   "cell_type": "code",
   "execution_count": 10,
   "metadata": {},
   "outputs": [],
   "source": [
    "placed=df[df['Placement Status']=='Placed']"
   ]
  },
  {
   "cell_type": "code",
   "execution_count": 11,
   "metadata": {},
   "outputs": [
    {
     "data": {
      "text/html": [
       "<div>\n",
       "<style scoped>\n",
       "    .dataframe tbody tr th:only-of-type {\n",
       "        vertical-align: middle;\n",
       "    }\n",
       "\n",
       "    .dataframe tbody tr th {\n",
       "        vertical-align: top;\n",
       "    }\n",
       "\n",
       "    .dataframe thead th {\n",
       "        text-align: right;\n",
       "    }\n",
       "</style>\n",
       "<table border=\"1\" class=\"dataframe\">\n",
       "  <thead>\n",
       "    <tr style=\"text-align: right;\">\n",
       "      <th></th>\n",
       "      <th>CRT REGISTERED (Y/N)</th>\n",
       "      <th>BRANCH</th>\n",
       "      <th>GENDER</th>\n",
       "      <th>Placement Status</th>\n",
       "      <th>GRADE X \\n(CGPA)</th>\n",
       "      <th>INTER OR POLY</th>\n",
       "      <th>GRADE XII\\n OR POLY(%)</th>\n",
       "      <th>UG\\n(CGPA)</th>\n",
       "      <th>NO. OF BACKLOGS</th>\n",
       "    </tr>\n",
       "  </thead>\n",
       "  <tbody>\n",
       "    <tr>\n",
       "      <th>0</th>\n",
       "      <td>CRT</td>\n",
       "      <td>CIVIL</td>\n",
       "      <td>Male</td>\n",
       "      <td>Placed</td>\n",
       "      <td>10.315789</td>\n",
       "      <td>I</td>\n",
       "      <td>95.70</td>\n",
       "      <td>8.50</td>\n",
       "      <td>0</td>\n",
       "    </tr>\n",
       "    <tr>\n",
       "      <th>1</th>\n",
       "      <td>CRT</td>\n",
       "      <td>CIVIL</td>\n",
       "      <td>Male</td>\n",
       "      <td>Placed</td>\n",
       "      <td>8.800000</td>\n",
       "      <td>I</td>\n",
       "      <td>92.70</td>\n",
       "      <td>7.90</td>\n",
       "      <td>0</td>\n",
       "    </tr>\n",
       "    <tr>\n",
       "      <th>2</th>\n",
       "      <td>CRT</td>\n",
       "      <td>CIVIL</td>\n",
       "      <td>Female</td>\n",
       "      <td>Placed</td>\n",
       "      <td>9.263158</td>\n",
       "      <td>I</td>\n",
       "      <td>91.00</td>\n",
       "      <td>8.75</td>\n",
       "      <td>0</td>\n",
       "    </tr>\n",
       "    <tr>\n",
       "      <th>3</th>\n",
       "      <td>CRT</td>\n",
       "      <td>CIVIL</td>\n",
       "      <td>Female</td>\n",
       "      <td>Placed</td>\n",
       "      <td>7.894737</td>\n",
       "      <td>I</td>\n",
       "      <td>68.00</td>\n",
       "      <td>7.00</td>\n",
       "      <td>1</td>\n",
       "    </tr>\n",
       "    <tr>\n",
       "      <th>4</th>\n",
       "      <td>CRT</td>\n",
       "      <td>CIVIL</td>\n",
       "      <td>Male</td>\n",
       "      <td>Placed</td>\n",
       "      <td>9.473684</td>\n",
       "      <td>I</td>\n",
       "      <td>89.80</td>\n",
       "      <td>7.90</td>\n",
       "      <td>0</td>\n",
       "    </tr>\n",
       "    <tr>\n",
       "      <th>...</th>\n",
       "      <td>...</td>\n",
       "      <td>...</td>\n",
       "      <td>...</td>\n",
       "      <td>...</td>\n",
       "      <td>...</td>\n",
       "      <td>...</td>\n",
       "      <td>...</td>\n",
       "      <td>...</td>\n",
       "      <td>...</td>\n",
       "    </tr>\n",
       "    <tr>\n",
       "      <th>948</th>\n",
       "      <td>CRT</td>\n",
       "      <td>ME</td>\n",
       "      <td>MALE</td>\n",
       "      <td>Placed</td>\n",
       "      <td>9.473684</td>\n",
       "      <td>D</td>\n",
       "      <td>82.40</td>\n",
       "      <td>7.48</td>\n",
       "      <td>0</td>\n",
       "    </tr>\n",
       "    <tr>\n",
       "      <th>949</th>\n",
       "      <td>CRT</td>\n",
       "      <td>ME</td>\n",
       "      <td>MALE</td>\n",
       "      <td>Placed</td>\n",
       "      <td>7.800000</td>\n",
       "      <td>D</td>\n",
       "      <td>70.00</td>\n",
       "      <td>6.33</td>\n",
       "      <td>1</td>\n",
       "    </tr>\n",
       "    <tr>\n",
       "      <th>950</th>\n",
       "      <td>CRT</td>\n",
       "      <td>ME</td>\n",
       "      <td>MALE</td>\n",
       "      <td>Placed</td>\n",
       "      <td>8.200000</td>\n",
       "      <td>D</td>\n",
       "      <td>75.00</td>\n",
       "      <td>7.48</td>\n",
       "      <td>0</td>\n",
       "    </tr>\n",
       "    <tr>\n",
       "      <th>951</th>\n",
       "      <td>CRT</td>\n",
       "      <td>ME</td>\n",
       "      <td>Male</td>\n",
       "      <td>Placed</td>\n",
       "      <td>9.000000</td>\n",
       "      <td>D</td>\n",
       "      <td>73.00</td>\n",
       "      <td>7.18</td>\n",
       "      <td>1</td>\n",
       "    </tr>\n",
       "    <tr>\n",
       "      <th>952</th>\n",
       "      <td>CRT</td>\n",
       "      <td>ME</td>\n",
       "      <td>Male</td>\n",
       "      <td>Placed</td>\n",
       "      <td>9.200000</td>\n",
       "      <td>D</td>\n",
       "      <td>92.55</td>\n",
       "      <td>8.93</td>\n",
       "      <td>0</td>\n",
       "    </tr>\n",
       "  </tbody>\n",
       "</table>\n",
       "<p>699 rows × 9 columns</p>\n",
       "</div>"
      ],
      "text/plain": [
       "    CRT REGISTERED (Y/N) BRANCH  GENDER Placement Status  GRADE X \\n(CGPA)  \\\n",
       "0                    CRT  CIVIL    Male           Placed         10.315789   \n",
       "1                    CRT  CIVIL    Male           Placed          8.800000   \n",
       "2                    CRT  CIVIL  Female           Placed          9.263158   \n",
       "3                    CRT  CIVIL  Female           Placed          7.894737   \n",
       "4                    CRT  CIVIL    Male           Placed          9.473684   \n",
       "..                   ...    ...     ...              ...               ...   \n",
       "948                  CRT     ME    MALE           Placed          9.473684   \n",
       "949                  CRT     ME    MALE           Placed          7.800000   \n",
       "950                  CRT     ME    MALE           Placed          8.200000   \n",
       "951                  CRT     ME    Male           Placed          9.000000   \n",
       "952                  CRT     ME    Male           Placed          9.200000   \n",
       "\n",
       "    INTER OR POLY  GRADE XII\\n OR POLY(%)  UG\\n(CGPA)  NO. OF BACKLOGS  \n",
       "0               I                   95.70        8.50                0  \n",
       "1               I                   92.70        7.90                0  \n",
       "2               I                   91.00        8.75                0  \n",
       "3               I                   68.00        7.00                1  \n",
       "4               I                   89.80        7.90                0  \n",
       "..            ...                     ...         ...              ...  \n",
       "948             D                   82.40        7.48                0  \n",
       "949             D                   70.00        6.33                1  \n",
       "950             D                   75.00        7.48                0  \n",
       "951             D                   73.00        7.18                1  \n",
       "952             D                   92.55        8.93                0  \n",
       "\n",
       "[699 rows x 9 columns]"
      ]
     },
     "execution_count": 11,
     "metadata": {},
     "output_type": "execute_result"
    }
   ],
   "source": [
    "placed"
   ]
  },
  {
   "cell_type": "code",
   "execution_count": 12,
   "metadata": {},
   "outputs": [
    {
     "data": {
      "text/plain": [
       "NO. OF BACKLOGS  Placement Status\n",
       "0                Placed              566\n",
       "1                Placed               57\n",
       "2                Placed               34\n",
       "3                Placed               17\n",
       "4                Placed                8\n",
       "7                Placed                5\n",
       "12               Placed                3\n",
       "13               Placed                2\n",
       "8                Placed                2\n",
       "6                Placed                2\n",
       "5                Placed                2\n",
       "9                Placed                1\n",
       "Name: Placement Status, dtype: int64"
      ]
     },
     "execution_count": 12,
     "metadata": {},
     "output_type": "execute_result"
    }
   ],
   "source": [
    "placed.groupby(by='NO. OF BACKLOGS')['Placement Status'].value_counts().sort_values(ascending=False)"
   ]
  },
  {
   "cell_type": "code",
   "execution_count": 13,
   "metadata": {},
   "outputs": [],
   "source": [
    "placed=placed[placed['NO. OF BACKLOGS']<3]"
   ]
  },
  {
   "cell_type": "code",
   "execution_count": 14,
   "metadata": {},
   "outputs": [
    {
     "data": {
      "text/plain": [
       "0    566\n",
       "1     57\n",
       "2     34\n",
       "Name: NO. OF BACKLOGS, dtype: int64"
      ]
     },
     "execution_count": 14,
     "metadata": {},
     "output_type": "execute_result"
    }
   ],
   "source": [
    "placed['NO. OF BACKLOGS'].value_counts()"
   ]
  },
  {
   "cell_type": "code",
   "execution_count": 15,
   "metadata": {},
   "outputs": [],
   "source": [
    "unplaced=df[df['Placement Status']=='Unplaced']"
   ]
  },
  {
   "cell_type": "code",
   "execution_count": 16,
   "metadata": {},
   "outputs": [
    {
     "data": {
      "text/html": [
       "<div>\n",
       "<style scoped>\n",
       "    .dataframe tbody tr th:only-of-type {\n",
       "        vertical-align: middle;\n",
       "    }\n",
       "\n",
       "    .dataframe tbody tr th {\n",
       "        vertical-align: top;\n",
       "    }\n",
       "\n",
       "    .dataframe thead th {\n",
       "        text-align: right;\n",
       "    }\n",
       "</style>\n",
       "<table border=\"1\" class=\"dataframe\">\n",
       "  <thead>\n",
       "    <tr style=\"text-align: right;\">\n",
       "      <th></th>\n",
       "      <th>CRT REGISTERED (Y/N)</th>\n",
       "      <th>BRANCH</th>\n",
       "      <th>GENDER</th>\n",
       "      <th>Placement Status</th>\n",
       "      <th>GRADE X \\n(CGPA)</th>\n",
       "      <th>INTER OR POLY</th>\n",
       "      <th>GRADE XII\\n OR POLY(%)</th>\n",
       "      <th>UG\\n(CGPA)</th>\n",
       "      <th>NO. OF BACKLOGS</th>\n",
       "    </tr>\n",
       "  </thead>\n",
       "  <tbody>\n",
       "    <tr>\n",
       "      <th>58</th>\n",
       "      <td>NON-CRT</td>\n",
       "      <td>CIVIL</td>\n",
       "      <td>Male</td>\n",
       "      <td>Unplaced</td>\n",
       "      <td>6.631579</td>\n",
       "      <td>I</td>\n",
       "      <td>73.0</td>\n",
       "      <td>4.736842</td>\n",
       "      <td>17</td>\n",
       "    </tr>\n",
       "    <tr>\n",
       "      <th>59</th>\n",
       "      <td>NON-CRT</td>\n",
       "      <td>CIVIL</td>\n",
       "      <td>Male</td>\n",
       "      <td>Unplaced</td>\n",
       "      <td>7.578947</td>\n",
       "      <td>I</td>\n",
       "      <td>91.3</td>\n",
       "      <td>4.200000</td>\n",
       "      <td>20</td>\n",
       "    </tr>\n",
       "    <tr>\n",
       "      <th>60</th>\n",
       "      <td>NON-CRT</td>\n",
       "      <td>CIVIL</td>\n",
       "      <td>Male</td>\n",
       "      <td>Unplaced</td>\n",
       "      <td>8.421053</td>\n",
       "      <td>I</td>\n",
       "      <td>75.0</td>\n",
       "      <td>6.421053</td>\n",
       "      <td>13</td>\n",
       "    </tr>\n",
       "    <tr>\n",
       "      <th>61</th>\n",
       "      <td>NON-CRT</td>\n",
       "      <td>CIVIL</td>\n",
       "      <td>Male</td>\n",
       "      <td>Unplaced</td>\n",
       "      <td>8.631579</td>\n",
       "      <td>I</td>\n",
       "      <td>88.0</td>\n",
       "      <td>4.800000</td>\n",
       "      <td>20</td>\n",
       "    </tr>\n",
       "    <tr>\n",
       "      <th>62</th>\n",
       "      <td>CRT</td>\n",
       "      <td>CIVIL</td>\n",
       "      <td>Female</td>\n",
       "      <td>Unplaced</td>\n",
       "      <td>9.473684</td>\n",
       "      <td>I</td>\n",
       "      <td>91.1</td>\n",
       "      <td>8.200000</td>\n",
       "      <td>0</td>\n",
       "    </tr>\n",
       "  </tbody>\n",
       "</table>\n",
       "</div>"
      ],
      "text/plain": [
       "   CRT REGISTERED (Y/N) BRANCH  GENDER Placement Status  GRADE X \\n(CGPA)  \\\n",
       "58              NON-CRT  CIVIL    Male         Unplaced          6.631579   \n",
       "59              NON-CRT  CIVIL    Male         Unplaced          7.578947   \n",
       "60              NON-CRT  CIVIL    Male         Unplaced          8.421053   \n",
       "61              NON-CRT  CIVIL    Male         Unplaced          8.631579   \n",
       "62                  CRT  CIVIL  Female         Unplaced          9.473684   \n",
       "\n",
       "   INTER OR POLY  GRADE XII\\n OR POLY(%)  UG\\n(CGPA)  NO. OF BACKLOGS  \n",
       "58             I                    73.0    4.736842               17  \n",
       "59             I                    91.3    4.200000               20  \n",
       "60             I                    75.0    6.421053               13  \n",
       "61             I                    88.0    4.800000               20  \n",
       "62             I                    91.1    8.200000                0  "
      ]
     },
     "execution_count": 16,
     "metadata": {},
     "output_type": "execute_result"
    }
   ],
   "source": [
    "unplaced.head()"
   ]
  },
  {
   "cell_type": "code",
   "execution_count": 17,
   "metadata": {},
   "outputs": [
    {
     "data": {
      "text/plain": [
       "NO. OF BACKLOGS  Placement Status\n",
       "0                Unplaced            144\n",
       "1                Unplaced             30\n",
       "2                Unplaced             22\n",
       "4                Unplaced             22\n",
       "5                Unplaced             17\n",
       "3                Unplaced             16\n",
       "8                Unplaced             16\n",
       "6                Unplaced             15\n",
       "10               Unplaced             12\n",
       "7                Unplaced             10\n",
       "9                Unplaced              9\n",
       "13               Unplaced              6\n",
       "12               Unplaced              6\n",
       "15               Unplaced              6\n",
       "19               Unplaced              6\n",
       "11               Unplaced              5\n",
       "17               Unplaced              5\n",
       "18               Unplaced              5\n",
       "16               Unplaced              4\n",
       "20               Unplaced              4\n",
       "21               Unplaced              4\n",
       "24               Unplaced              2\n",
       "22               Unplaced              2\n",
       "14               Unplaced              1\n",
       "23               Unplaced              1\n",
       "26               Unplaced              1\n",
       "Name: Placement Status, dtype: int64"
      ]
     },
     "execution_count": 17,
     "metadata": {},
     "output_type": "execute_result"
    }
   ],
   "source": [
    "unplaced.groupby(by='NO. OF BACKLOGS')['Placement Status'].value_counts().sort_values(ascending=False)"
   ]
  },
  {
   "cell_type": "code",
   "execution_count": 18,
   "metadata": {},
   "outputs": [
    {
     "data": {
      "text/plain": [
       "NON-CRT    188\n",
       "CRT        183\n",
       "Name: CRT REGISTERED (Y/N), dtype: int64"
      ]
     },
     "execution_count": 18,
     "metadata": {},
     "output_type": "execute_result"
    }
   ],
   "source": [
    "unplaced['CRT REGISTERED (Y/N)'].value_counts()"
   ]
  },
  {
   "cell_type": "code",
   "execution_count": 19,
   "metadata": {},
   "outputs": [
    {
     "data": {
      "text/plain": [
       "CRT        577\n",
       "NON-CRT     80\n",
       "Name: CRT REGISTERED (Y/N), dtype: int64"
      ]
     },
     "execution_count": 19,
     "metadata": {},
     "output_type": "execute_result"
    }
   ],
   "source": [
    "placed['CRT REGISTERED (Y/N)'].value_counts()"
   ]
  },
  {
   "cell_type": "code",
   "execution_count": 20,
   "metadata": {},
   "outputs": [
    {
     "data": {
      "text/plain": [
       "CRT REGISTERED (Y/N)\n",
       "NON-CRT    1421\n",
       "CRT         682\n",
       "Name: NO. OF BACKLOGS, dtype: int64"
      ]
     },
     "execution_count": 20,
     "metadata": {},
     "output_type": "execute_result"
    }
   ],
   "source": [
    "df.groupby(by='CRT REGISTERED (Y/N)')['NO. OF BACKLOGS'].sum().sort_values(ascending=False)"
   ]
  },
  {
   "cell_type": "code",
   "execution_count": 21,
   "metadata": {},
   "outputs": [
    {
     "data": {
      "text/plain": [
       "ECM       11\n",
       "IT        22\n",
       "CSE       38\n",
       "ECE       45\n",
       "EEE       56\n",
       "CIVIL     82\n",
       "ME       117\n",
       "Name: BRANCH, dtype: int64"
      ]
     },
     "execution_count": 21,
     "metadata": {},
     "output_type": "execute_result"
    }
   ],
   "source": [
    "unplaced['BRANCH'].value_counts().sort_values(ascending=True)"
   ]
  },
  {
   "cell_type": "code",
   "execution_count": 22,
   "metadata": {},
   "outputs": [
    {
     "data": {
      "text/plain": [
       "CSE      179\n",
       "ME       126\n",
       "ECE      123\n",
       "EEE      108\n",
       "CIVIL     54\n",
       "ECM       34\n",
       "IT        33\n",
       "Name: BRANCH, dtype: int64"
      ]
     },
     "execution_count": 22,
     "metadata": {},
     "output_type": "execute_result"
    }
   ],
   "source": [
    "placed['BRANCH'].value_counts().sort_values(ascending=False)"
   ]
  },
  {
   "cell_type": "code",
   "execution_count": 23,
   "metadata": {},
   "outputs": [],
   "source": [
    "branch=pd.DataFrame({\n",
    "    'BRANCH':['CSE','ME','ECE','EEE','CIVIL','ECM','IT'],\n",
    "    'PLACED':[179,126,123,108,54,34,33],\n",
    "    'UNPLACED':[38,117,45,56,82,45,22],\n",
    "})"
   ]
  },
  {
   "cell_type": "code",
   "execution_count": 24,
   "metadata": {},
   "outputs": [],
   "source": [
    "branch['TOTAL']=branch['PLACED']+branch['UNPLACED']"
   ]
  },
  {
   "cell_type": "code",
   "execution_count": 25,
   "metadata": {},
   "outputs": [
    {
     "data": {
      "text/html": [
       "<div>\n",
       "<style scoped>\n",
       "    .dataframe tbody tr th:only-of-type {\n",
       "        vertical-align: middle;\n",
       "    }\n",
       "\n",
       "    .dataframe tbody tr th {\n",
       "        vertical-align: top;\n",
       "    }\n",
       "\n",
       "    .dataframe thead th {\n",
       "        text-align: right;\n",
       "    }\n",
       "</style>\n",
       "<table border=\"1\" class=\"dataframe\">\n",
       "  <thead>\n",
       "    <tr style=\"text-align: right;\">\n",
       "      <th></th>\n",
       "      <th>BRANCH</th>\n",
       "      <th>PLACED</th>\n",
       "      <th>UNPLACED</th>\n",
       "      <th>TOTAL</th>\n",
       "    </tr>\n",
       "  </thead>\n",
       "  <tbody>\n",
       "    <tr>\n",
       "      <th>0</th>\n",
       "      <td>CSE</td>\n",
       "      <td>179</td>\n",
       "      <td>38</td>\n",
       "      <td>217</td>\n",
       "    </tr>\n",
       "    <tr>\n",
       "      <th>1</th>\n",
       "      <td>ME</td>\n",
       "      <td>126</td>\n",
       "      <td>117</td>\n",
       "      <td>243</td>\n",
       "    </tr>\n",
       "    <tr>\n",
       "      <th>2</th>\n",
       "      <td>ECE</td>\n",
       "      <td>123</td>\n",
       "      <td>45</td>\n",
       "      <td>168</td>\n",
       "    </tr>\n",
       "    <tr>\n",
       "      <th>3</th>\n",
       "      <td>EEE</td>\n",
       "      <td>108</td>\n",
       "      <td>56</td>\n",
       "      <td>164</td>\n",
       "    </tr>\n",
       "    <tr>\n",
       "      <th>4</th>\n",
       "      <td>CIVIL</td>\n",
       "      <td>54</td>\n",
       "      <td>82</td>\n",
       "      <td>136</td>\n",
       "    </tr>\n",
       "    <tr>\n",
       "      <th>5</th>\n",
       "      <td>ECM</td>\n",
       "      <td>34</td>\n",
       "      <td>45</td>\n",
       "      <td>79</td>\n",
       "    </tr>\n",
       "    <tr>\n",
       "      <th>6</th>\n",
       "      <td>IT</td>\n",
       "      <td>33</td>\n",
       "      <td>22</td>\n",
       "      <td>55</td>\n",
       "    </tr>\n",
       "  </tbody>\n",
       "</table>\n",
       "</div>"
      ],
      "text/plain": [
       "  BRANCH  PLACED  UNPLACED  TOTAL\n",
       "0    CSE     179        38    217\n",
       "1     ME     126       117    243\n",
       "2    ECE     123        45    168\n",
       "3    EEE     108        56    164\n",
       "4  CIVIL      54        82    136\n",
       "5    ECM      34        45     79\n",
       "6     IT      33        22     55"
      ]
     },
     "execution_count": 25,
     "metadata": {},
     "output_type": "execute_result"
    }
   ],
   "source": [
    "branch"
   ]
  },
  {
   "cell_type": "code",
   "execution_count": 26,
   "metadata": {},
   "outputs": [],
   "source": [
    "zero_backlogs_unplaced=unplaced[unplaced['NO. OF BACKLOGS']==0]"
   ]
  },
  {
   "cell_type": "code",
   "execution_count": 27,
   "metadata": {},
   "outputs": [
    {
     "data": {
      "text/plain": [
       "CRT        98\n",
       "NON-CRT    46\n",
       "Name: CRT REGISTERED (Y/N), dtype: int64"
      ]
     },
     "execution_count": 27,
     "metadata": {},
     "output_type": "execute_result"
    }
   ],
   "source": [
    "zero_backlogs_unplaced['CRT REGISTERED (Y/N)'].value_counts()"
   ]
  },
  {
   "cell_type": "code",
   "execution_count": 28,
   "metadata": {},
   "outputs": [
    {
     "data": {
      "text/html": [
       "<div>\n",
       "<style scoped>\n",
       "    .dataframe tbody tr th:only-of-type {\n",
       "        vertical-align: middle;\n",
       "    }\n",
       "\n",
       "    .dataframe tbody tr th {\n",
       "        vertical-align: top;\n",
       "    }\n",
       "\n",
       "    .dataframe thead th {\n",
       "        text-align: right;\n",
       "    }\n",
       "</style>\n",
       "<table border=\"1\" class=\"dataframe\">\n",
       "  <thead>\n",
       "    <tr style=\"text-align: right;\">\n",
       "      <th></th>\n",
       "      <th>GRADE X \\n(CGPA)</th>\n",
       "      <th>GRADE XII\\n OR POLY(%)</th>\n",
       "      <th>UG\\n(CGPA)</th>\n",
       "      <th>NO. OF BACKLOGS</th>\n",
       "    </tr>\n",
       "  </thead>\n",
       "  <tbody>\n",
       "    <tr>\n",
       "      <th>count</th>\n",
       "      <td>144.000000</td>\n",
       "      <td>144.000000</td>\n",
       "      <td>144.000000</td>\n",
       "      <td>144.0</td>\n",
       "    </tr>\n",
       "    <tr>\n",
       "      <th>mean</th>\n",
       "      <td>8.822039</td>\n",
       "      <td>84.134167</td>\n",
       "      <td>7.949059</td>\n",
       "      <td>0.0</td>\n",
       "    </tr>\n",
       "    <tr>\n",
       "      <th>std</th>\n",
       "      <td>0.866435</td>\n",
       "      <td>13.456380</td>\n",
       "      <td>0.708179</td>\n",
       "      <td>0.0</td>\n",
       "    </tr>\n",
       "    <tr>\n",
       "      <th>min</th>\n",
       "      <td>6.200000</td>\n",
       "      <td>0.000000</td>\n",
       "      <td>6.000000</td>\n",
       "      <td>0.0</td>\n",
       "    </tr>\n",
       "    <tr>\n",
       "      <th>25%</th>\n",
       "      <td>8.210526</td>\n",
       "      <td>79.000000</td>\n",
       "      <td>7.400000</td>\n",
       "      <td>0.0</td>\n",
       "    </tr>\n",
       "    <tr>\n",
       "      <th>50%</th>\n",
       "      <td>9.000000</td>\n",
       "      <td>87.400000</td>\n",
       "      <td>7.965000</td>\n",
       "      <td>0.0</td>\n",
       "    </tr>\n",
       "    <tr>\n",
       "      <th>75%</th>\n",
       "      <td>9.480263</td>\n",
       "      <td>92.275000</td>\n",
       "      <td>8.415000</td>\n",
       "      <td>0.0</td>\n",
       "    </tr>\n",
       "    <tr>\n",
       "      <th>max</th>\n",
       "      <td>10.526316</td>\n",
       "      <td>98.100000</td>\n",
       "      <td>9.820000</td>\n",
       "      <td>0.0</td>\n",
       "    </tr>\n",
       "  </tbody>\n",
       "</table>\n",
       "</div>"
      ],
      "text/plain": [
       "       GRADE X \\n(CGPA)  GRADE XII\\n OR POLY(%)  UG\\n(CGPA)  NO. OF BACKLOGS\n",
       "count        144.000000              144.000000  144.000000            144.0\n",
       "mean           8.822039               84.134167    7.949059              0.0\n",
       "std            0.866435               13.456380    0.708179              0.0\n",
       "min            6.200000                0.000000    6.000000              0.0\n",
       "25%            8.210526               79.000000    7.400000              0.0\n",
       "50%            9.000000               87.400000    7.965000              0.0\n",
       "75%            9.480263               92.275000    8.415000              0.0\n",
       "max           10.526316               98.100000    9.820000              0.0"
      ]
     },
     "execution_count": 28,
     "metadata": {},
     "output_type": "execute_result"
    }
   ],
   "source": [
    "zero_backlogs_unplaced.describe()"
   ]
  },
  {
   "cell_type": "code",
   "execution_count": 29,
   "metadata": {},
   "outputs": [],
   "source": [
    "zero_backlogs_unplaced=zero_backlogs_unplaced[(zero_backlogs_unplaced['CRT REGISTERED (Y/N)']=='CRT')&\n",
    "                                              (zero_backlogs_unplaced['UG\\n(CGPA)']>=7)]"
   ]
  },
  {
   "cell_type": "code",
   "execution_count": 30,
   "metadata": {},
   "outputs": [
    {
     "data": {
      "text/plain": [
       "(94, 9)"
      ]
     },
     "execution_count": 30,
     "metadata": {},
     "output_type": "execute_result"
    }
   ],
   "source": [
    "zero_backlogs_unplaced.shape"
   ]
  },
  {
   "cell_type": "code",
   "execution_count": 31,
   "metadata": {},
   "outputs": [
    {
     "name": "stderr",
     "output_type": "stream",
     "text": [
      "C:\\Users\\BHARAT\\anaconda3\\lib\\site-packages\\pandas\\core\\indexing.py:1765: SettingWithCopyWarning: \n",
      "A value is trying to be set on a copy of a slice from a DataFrame.\n",
      "Try using .loc[row_indexer,col_indexer] = value instead\n",
      "\n",
      "See the caveats in the documentation: https://pandas.pydata.org/pandas-docs/stable/user_guide/indexing.html#returning-a-view-versus-a-copy\n",
      "  isetter(loc, value)\n"
     ]
    }
   ],
   "source": [
    "unplaced.loc[((unplaced['NO. OF BACKLOGS']==0)&(unplaced['UG\\n(CGPA)']>=7)&\n",
    "             (zero_backlogs_unplaced['CRT REGISTERED (Y/N)']=='CRT')),'Placement Status']='Placed'"
   ]
  },
  {
   "cell_type": "code",
   "execution_count": 32,
   "metadata": {},
   "outputs": [
    {
     "data": {
      "text/plain": [
       "Unplaced    277\n",
       "Placed       94\n",
       "Name: Placement Status, dtype: int64"
      ]
     },
     "execution_count": 32,
     "metadata": {},
     "output_type": "execute_result"
    }
   ],
   "source": [
    "unplaced['Placement Status'].value_counts()"
   ]
  },
  {
   "cell_type": "code",
   "execution_count": 33,
   "metadata": {},
   "outputs": [],
   "source": [
    "data=pd.concat([placed,unplaced])"
   ]
  },
  {
   "cell_type": "code",
   "execution_count": 34,
   "metadata": {},
   "outputs": [
    {
     "data": {
      "text/html": [
       "<div>\n",
       "<style scoped>\n",
       "    .dataframe tbody tr th:only-of-type {\n",
       "        vertical-align: middle;\n",
       "    }\n",
       "\n",
       "    .dataframe tbody tr th {\n",
       "        vertical-align: top;\n",
       "    }\n",
       "\n",
       "    .dataframe thead th {\n",
       "        text-align: right;\n",
       "    }\n",
       "</style>\n",
       "<table border=\"1\" class=\"dataframe\">\n",
       "  <thead>\n",
       "    <tr style=\"text-align: right;\">\n",
       "      <th></th>\n",
       "      <th>CRT REGISTERED (Y/N)</th>\n",
       "      <th>BRANCH</th>\n",
       "      <th>GENDER</th>\n",
       "      <th>Placement Status</th>\n",
       "      <th>GRADE X \\n(CGPA)</th>\n",
       "      <th>INTER OR POLY</th>\n",
       "      <th>GRADE XII\\n OR POLY(%)</th>\n",
       "      <th>UG\\n(CGPA)</th>\n",
       "      <th>NO. OF BACKLOGS</th>\n",
       "    </tr>\n",
       "  </thead>\n",
       "  <tbody>\n",
       "    <tr>\n",
       "      <th>0</th>\n",
       "      <td>CRT</td>\n",
       "      <td>CIVIL</td>\n",
       "      <td>Male</td>\n",
       "      <td>Placed</td>\n",
       "      <td>10.315789</td>\n",
       "      <td>I</td>\n",
       "      <td>95.7</td>\n",
       "      <td>8.50</td>\n",
       "      <td>0</td>\n",
       "    </tr>\n",
       "    <tr>\n",
       "      <th>1</th>\n",
       "      <td>CRT</td>\n",
       "      <td>CIVIL</td>\n",
       "      <td>Male</td>\n",
       "      <td>Placed</td>\n",
       "      <td>8.800000</td>\n",
       "      <td>I</td>\n",
       "      <td>92.7</td>\n",
       "      <td>7.90</td>\n",
       "      <td>0</td>\n",
       "    </tr>\n",
       "    <tr>\n",
       "      <th>2</th>\n",
       "      <td>CRT</td>\n",
       "      <td>CIVIL</td>\n",
       "      <td>Female</td>\n",
       "      <td>Placed</td>\n",
       "      <td>9.263158</td>\n",
       "      <td>I</td>\n",
       "      <td>91.0</td>\n",
       "      <td>8.75</td>\n",
       "      <td>0</td>\n",
       "    </tr>\n",
       "    <tr>\n",
       "      <th>3</th>\n",
       "      <td>CRT</td>\n",
       "      <td>CIVIL</td>\n",
       "      <td>Female</td>\n",
       "      <td>Placed</td>\n",
       "      <td>7.894737</td>\n",
       "      <td>I</td>\n",
       "      <td>68.0</td>\n",
       "      <td>7.00</td>\n",
       "      <td>1</td>\n",
       "    </tr>\n",
       "    <tr>\n",
       "      <th>4</th>\n",
       "      <td>CRT</td>\n",
       "      <td>CIVIL</td>\n",
       "      <td>Male</td>\n",
       "      <td>Placed</td>\n",
       "      <td>9.473684</td>\n",
       "      <td>I</td>\n",
       "      <td>89.8</td>\n",
       "      <td>7.90</td>\n",
       "      <td>0</td>\n",
       "    </tr>\n",
       "  </tbody>\n",
       "</table>\n",
       "</div>"
      ],
      "text/plain": [
       "  CRT REGISTERED (Y/N) BRANCH  GENDER Placement Status  GRADE X \\n(CGPA)  \\\n",
       "0                  CRT  CIVIL    Male           Placed         10.315789   \n",
       "1                  CRT  CIVIL    Male           Placed          8.800000   \n",
       "2                  CRT  CIVIL  Female           Placed          9.263158   \n",
       "3                  CRT  CIVIL  Female           Placed          7.894737   \n",
       "4                  CRT  CIVIL    Male           Placed          9.473684   \n",
       "\n",
       "  INTER OR POLY  GRADE XII\\n OR POLY(%)  UG\\n(CGPA)  NO. OF BACKLOGS  \n",
       "0             I                    95.7        8.50                0  \n",
       "1             I                    92.7        7.90                0  \n",
       "2             I                    91.0        8.75                0  \n",
       "3             I                    68.0        7.00                1  \n",
       "4             I                    89.8        7.90                0  "
      ]
     },
     "execution_count": 34,
     "metadata": {},
     "output_type": "execute_result"
    }
   ],
   "source": [
    "data.head()"
   ]
  },
  {
   "cell_type": "code",
   "execution_count": 35,
   "metadata": {},
   "outputs": [
    {
     "data": {
      "text/plain": [
       "CRT REGISTERED (Y/N)       object\n",
       "BRANCH                     object\n",
       "GENDER                     object\n",
       "Placement Status           object\n",
       "GRADE X \\n(CGPA)          float64\n",
       "INTER OR POLY              object\n",
       "GRADE XII\\n OR POLY(%)    float64\n",
       "UG\\n(CGPA)                float64\n",
       "NO. OF BACKLOGS             int64\n",
       "dtype: object"
      ]
     },
     "execution_count": 35,
     "metadata": {},
     "output_type": "execute_result"
    }
   ],
   "source": [
    "data.dtypes"
   ]
  },
  {
   "cell_type": "code",
   "execution_count": 36,
   "metadata": {},
   "outputs": [
    {
     "data": {
      "text/plain": [
       "(1028, 9)"
      ]
     },
     "execution_count": 36,
     "metadata": {},
     "output_type": "execute_result"
    }
   ],
   "source": [
    "data.shape"
   ]
  },
  {
   "cell_type": "code",
   "execution_count": 37,
   "metadata": {},
   "outputs": [
    {
     "data": {
      "text/plain": [
       "CRT REGISTERED (Y/N)      0\n",
       "BRANCH                    0\n",
       "GENDER                    0\n",
       "Placement Status          0\n",
       "GRADE X \\n(CGPA)          0\n",
       "INTER OR POLY             0\n",
       "GRADE XII\\n OR POLY(%)    0\n",
       "UG\\n(CGPA)                0\n",
       "NO. OF BACKLOGS           0\n",
       "dtype: int64"
      ]
     },
     "execution_count": 37,
     "metadata": {},
     "output_type": "execute_result"
    }
   ],
   "source": [
    "data.isna().sum()"
   ]
  },
  {
   "cell_type": "code",
   "execution_count": 38,
   "metadata": {},
   "outputs": [
    {
     "data": {
      "text/plain": [
       "ME       243\n",
       "CSE      217\n",
       "ECE      168\n",
       "EEE      164\n",
       "CIVIL    136\n",
       "IT        55\n",
       "ECM       45\n",
       "Name: BRANCH, dtype: int64"
      ]
     },
     "execution_count": 38,
     "metadata": {},
     "output_type": "execute_result"
    }
   ],
   "source": [
    "data.BRANCH.value_counts()"
   ]
  },
  {
   "cell_type": "code",
   "execution_count": 39,
   "metadata": {},
   "outputs": [],
   "source": [
    "data=data[(data['BRANCH']=='ME')|(data['BRANCH']=='CSE')|(data['BRANCH']=='ECE')|\n",
    "          (data['BRANCH']=='EEE')|(data['BRANCH']=='CIVIL')]"
   ]
  },
  {
   "cell_type": "code",
   "execution_count": 40,
   "metadata": {},
   "outputs": [
    {
     "data": {
      "text/plain": [
       "ME       243\n",
       "CSE      217\n",
       "ECE      168\n",
       "EEE      164\n",
       "CIVIL    136\n",
       "Name: BRANCH, dtype: int64"
      ]
     },
     "execution_count": 40,
     "metadata": {},
     "output_type": "execute_result"
    }
   ],
   "source": [
    "data.BRANCH.value_counts()"
   ]
  },
  {
   "cell_type": "code",
   "execution_count": 41,
   "metadata": {},
   "outputs": [],
   "source": [
    "import seaborn as sb"
   ]
  },
  {
   "cell_type": "code",
   "execution_count": 42,
   "metadata": {},
   "outputs": [
    {
     "data": {
      "image/png": "[encoded data removed]",
      "text/plain": [
       "<Figure size 432x288 with 1 Axes>"
      ]
     },
     "metadata": {
      "needs_background": "light"
     },
     "output_type": "display_data"
    }
   ],
   "source": [
    "sb.countplot(x='CRT REGISTERED (Y/N)',data=data);"
   ]
  },
  {
   "cell_type": "code",
   "execution_count": 43,
   "metadata": {},
   "outputs": [
    {
     "data": {
      "image/png": "[encoded data removed]",
      "text/plain": [
       "<Figure size 432x288 with 1 Axes>"
      ]
     },
     "metadata": {
      "needs_background": "light"
     },
     "output_type": "display_data"
    }
   ],
   "source": [
    "data.groupby(['CRT REGISTERED (Y/N)'])['Placement Status'].value_counts().plot(kind='bar');"
   ]
  },
  {
   "cell_type": "code",
   "execution_count": 44,
   "metadata": {},
   "outputs": [],
   "source": [
    "data['CRT REGISTERED (Y/N)']=data['CRT REGISTERED (Y/N)'].map({'NON-CRT':0,'CRT':1});"
   ]
  },
  {
   "cell_type": "code",
   "execution_count": 45,
   "metadata": {},
   "outputs": [
    {
     "data": {
      "image/png": "[encoded data removed]",
      "text/plain": [
       "<Figure size 432x288 with 1 Axes>"
      ]
     },
     "metadata": {
      "needs_background": "light"
     },
     "output_type": "display_data"
    }
   ],
   "source": [
    "sb.countplot(x='GENDER',data=df);"
   ]
  },
  {
   "cell_type": "code",
   "execution_count": 46,
   "metadata": {},
   "outputs": [],
   "source": [
    "data['GENDER']=data['GENDER'].replace({'Male':'MALE','Female':'FEMALE'})"
   ]
  },
  {
   "cell_type": "code",
   "execution_count": 47,
   "metadata": {},
   "outputs": [
    {
     "data": {
      "image/png": "[encoded data removed]",
      "text/plain": [
       "<Figure size 432x288 with 1 Axes>"
      ]
     },
     "metadata": {
      "needs_background": "light"
     },
     "output_type": "display_data"
    }
   ],
   "source": [
    "sb.countplot(x='GENDER',data=df);"
   ]
  },
  {
   "cell_type": "code",
   "execution_count": 48,
   "metadata": {},
   "outputs": [
    {
     "data": {
      "image/png": "[encoded data removed]",
      "text/plain": [
       "<Figure size 432x288 with 1 Axes>"
      ]
     },
     "metadata": {
      "needs_background": "light"
     },
     "output_type": "display_data"
    }
   ],
   "source": [
    "df.groupby(['GENDER'])['Placement Status'].value_counts().plot(kind='bar');"
   ]
  },
  {
   "cell_type": "code",
   "execution_count": 49,
   "metadata": {},
   "outputs": [],
   "source": [
    "data['GENDER']=data['GENDER'].map({'MALE':0,'FEMALE':1});"
   ]
  },
  {
   "cell_type": "code",
   "execution_count": 50,
   "metadata": {},
   "outputs": [
    {
     "data": {
      "image/png": "[encoded data removed]",
      "text/plain": [
       "<Figure size 432x288 with 1 Axes>"
      ]
     },
     "metadata": {
      "needs_background": "light"
     },
     "output_type": "display_data"
    }
   ],
   "source": [
    "sb.countplot(x='BRANCH',data=data);"
   ]
  },
  {
   "cell_type": "code",
   "execution_count": 51,
   "metadata": {},
   "outputs": [
    {
     "data": {
      "image/png": "[encoded data removed]",
      "text/plain": [
       "<Figure size 432x288 with 1 Axes>"
      ]
     },
     "metadata": {
      "needs_background": "light"
     },
     "output_type": "display_data"
    }
   ],
   "source": [
    "data.groupby(['BRANCH'])['Placement Status'].value_counts().plot(kind='bar');"
   ]
  },
  {
   "cell_type": "code",
   "execution_count": 52,
   "metadata": {},
   "outputs": [
    {
     "data": {
      "text/plain": [
       "BRANCH  Placement Status\n",
       "CIVIL   Placed               78\n",
       "        Unplaced             58\n",
       "CSE     Placed              185\n",
       "        Unplaced             32\n",
       "ECE     Placed              137\n",
       "        Unplaced             31\n",
       "EEE     Placed              121\n",
       "        Unplaced             43\n",
       "ME      Placed              152\n",
       "        Unplaced             91\n",
       "Name: Placement Status, dtype: int64"
      ]
     },
     "execution_count": 52,
     "metadata": {},
     "output_type": "execute_result"
    }
   ],
   "source": [
    "data.groupby(['BRANCH'])['Placement Status'].value_counts()"
   ]
  },
  {
   "cell_type": "code",
   "execution_count": 53,
   "metadata": {},
   "outputs": [
    {
     "data": {
      "text/plain": [
       "{'CIVIL': 57.35294117647059,\n",
       " 'CSE': 85.25345622119816,\n",
       " 'ECE': 81.54761904761905,\n",
       " 'EEE': 73.78048780487805,\n",
       " 'ME': 62.55144032921811}"
      ]
     },
     "execution_count": 53,
     "metadata": {},
     "output_type": "execute_result"
    }
   ],
   "source": [
    "placement_percentage={'CIVIL':(78)*100/(78+58),\n",
    "                     'CSE':(185)*100/(185+32),\n",
    "                     'ECE':(137)*100/(137+31),\n",
    "                     'EEE':(121)*100/(121+43),\n",
    "                     'ME':(152)*100/(152+91)}\n",
    "placement_percentage"
   ]
  },
  {
   "cell_type": "code",
   "execution_count": 54,
   "metadata": {},
   "outputs": [],
   "source": [
    "data['BRANCH']=data['BRANCH'].map({'CSE':5,'ECE':4,'EEE':3,'ME':2,'CIVIL':1})"
   ]
  },
  {
   "cell_type": "code",
   "execution_count": 55,
   "metadata": {},
   "outputs": [
    {
     "data": {
      "image/png": "[encoded data removed]",
      "text/plain": [
       "<Figure size 432x288 with 1 Axes>"
      ]
     },
     "metadata": {
      "needs_background": "light"
     },
     "output_type": "display_data"
    }
   ],
   "source": [
    "data.groupby(['INTER OR POLY'])['Placement Status'].value_counts().plot(kind='bar');"
   ]
  },
  {
   "cell_type": "code",
   "execution_count": 56,
   "metadata": {},
   "outputs": [],
   "source": [
    "data['INTER OR POLY']=data['INTER OR POLY'].map({'D':0,'I':1});"
   ]
  },
  {
   "cell_type": "code",
   "execution_count": 57,
   "metadata": {},
   "outputs": [],
   "source": [
    "data['Placement Status']=data['Placement Status'].map({'Placed':1,'Unplaced':0})"
   ]
  },
  {
   "cell_type": "code",
   "execution_count": 58,
   "metadata": {},
   "outputs": [
    {
     "name": "stdout",
     "output_type": "stream",
     "text": [
      "<class 'pandas.core.frame.DataFrame'>\n",
      "Int64Index: 928 entries, 0 to 1069\n",
      "Data columns (total 9 columns):\n",
      " #   Column                 Non-Null Count  Dtype  \n",
      "---  ------                 --------------  -----  \n",
      " 0   CRT REGISTERED (Y/N)   928 non-null    int64  \n",
      " 1   BRANCH                 928 non-null    int64  \n",
      " 2   GENDER                 928 non-null    int64  \n",
      " 3   Placement Status       928 non-null    int64  \n",
      " 4   GRADE X \n",
      "(CGPA)        928 non-null    float64\n",
      " 5   INTER OR POLY          928 non-null    int64  \n",
      " 6   GRADE XII\n",
      " OR POLY(%)  928 non-null    float64\n",
      " 7   UG\n",
      "(CGPA)              928 non-null    float64\n",
      " 8   NO. OF BACKLOGS        928 non-null    int64  \n",
      "dtypes: float64(3), int64(6)\n",
      "memory usage: 112.5 KB\n"
     ]
    }
   ],
   "source": [
    "data.info()"
   ]
  },
  {
   "cell_type": "code",
   "execution_count": 59,
   "metadata": {},
   "outputs": [],
   "source": [
    "X=data.drop('Placement Status',axis=1)\n",
    "y=data['Placement Status']"
   ]
  },
  {
   "cell_type": "code",
   "execution_count": 60,
   "metadata": {},
   "outputs": [
    {
     "data": {
      "text/plain": [
       "1    673\n",
       "0    255\n",
       "Name: Placement Status, dtype: int64"
      ]
     },
     "execution_count": 60,
     "metadata": {},
     "output_type": "execute_result"
    }
   ],
   "source": [
    "y.value_counts()"
   ]
  },
  {
   "cell_type": "code",
   "execution_count": 61,
   "metadata": {},
   "outputs": [],
   "source": [
    "from imblearn.over_sampling import RandomOverSampler\n",
    "rus=RandomOverSampler(sampling_strategy=\"minority\")\n",
    "X_rus,y_rus=rus.fit_resample(X,y)"
   ]
  },
  {
   "cell_type": "code",
   "execution_count": 62,
   "metadata": {},
   "outputs": [
    {
     "data": {
      "text/plain": [
       "1    673\n",
       "0    673\n",
       "Name: Placement Status, dtype: int64"
      ]
     },
     "execution_count": 62,
     "metadata": {},
     "output_type": "execute_result"
    }
   ],
   "source": [
    "y_rus.value_counts()"
   ]
  },
  {
   "cell_type": "code",
   "execution_count": 63,
   "metadata": {},
   "outputs": [],
   "source": [
    "from sklearn.model_selection import train_test_split\n",
    "from sklearn.linear_model import LogisticRegression\n",
    "from sklearn.svm import SVC\n",
    "from sklearn.neighbors import KNeighborsClassifier\n",
    "from sklearn.tree import DecisionTreeClassifier\n",
    "from sklearn.ensemble import RandomForestClassifier,GradientBoostingClassifier\n",
    "from sklearn.metrics import classification_report,confusion_matrix,accuracy_score"
   ]
  },
  {
   "cell_type": "code",
   "execution_count": 64,
   "metadata": {},
   "outputs": [],
   "source": [
    "X_train,X_test,y_train,y_test=train_test_split(X_rus,y_rus,test_size=0.2,shuffle=True)"
   ]
  },
  {
   "cell_type": "code",
   "execution_count": 65,
   "metadata": {},
   "outputs": [
    {
     "name": "stdout",
     "output_type": "stream",
     "text": [
      "0.8962962962962963\n"
     ]
    },
    {
     "name": "stderr",
     "output_type": "stream",
     "text": [
      "C:\\Users\\BHARAT\\anaconda3\\lib\\site-packages\\sklearn\\linear_model\\_logistic.py:814: ConvergenceWarning: lbfgs failed to converge (status=1):\n",
      "STOP: TOTAL NO. of ITERATIONS REACHED LIMIT.\n",
      "\n",
      "Increase the number of iterations (max_iter) or scale the data as shown in:\n",
      "    https://scikit-learn.org/stable/modules/preprocessing.html\n",
      "Please also refer to the documentation for alternative solver options:\n",
      "    https://scikit-learn.org/stable/modules/linear_model.html#logistic-regression\n",
      "  n_iter_i = _check_optimize_result(\n"
     ]
    }
   ],
   "source": [
    "lr=LogisticRegression()\n",
    "lr.fit(X_train,y_train)\n",
    "y_pred = lr.predict(X_test)\n",
    "print(accuracy_score(y_test,y_pred))"
   ]
  },
  {
   "cell_type": "code",
   "execution_count": 66,
   "metadata": {},
   "outputs": [
    {
     "data": {
      "image/png": "[encoded data removed]",
      "text/plain": [
       "<Figure size 432x288 with 2 Axes>"
      ]
     },
     "metadata": {
      "needs_background": "light"
     },
     "output_type": "display_data"
    }
   ],
   "source": [
    "cm = confusion_matrix(y_test,y_pred)\n",
    "sb.heatmap(cm,annot=True,cmap='plasma');"
   ]
  },
  {
   "cell_type": "code",
   "execution_count": 67,
   "metadata": {},
   "outputs": [
    {
     "name": "stdout",
     "output_type": "stream",
     "text": [
      "0.7962962962962963\n"
     ]
    }
   ],
   "source": [
    "svm=SVC()\n",
    "svm.fit(X_train,y_train)\n",
    "y_pred = svm.predict(X_test)\n",
    "print(accuracy_score(y_test,y_pred))"
   ]
  },
  {
   "cell_type": "code",
   "execution_count": 68,
   "metadata": {},
   "outputs": [
    {
     "data": {
      "image/png": "[encoded data removed]",
      "text/plain": [
       "<Figure size 432x288 with 2 Axes>"
      ]
     },
     "metadata": {
      "needs_background": "light"
     },
     "output_type": "display_data"
    }
   ],
   "source": [
    "cm = confusion_matrix(y_test,y_pred)\n",
    "sb.heatmap(cm,annot=True,cmap='plasma');"
   ]
  },
  {
   "cell_type": "code",
   "execution_count": 69,
   "metadata": {},
   "outputs": [
    {
     "name": "stdout",
     "output_type": "stream",
     "text": [
      "0.8851851851851852\n"
     ]
    }
   ],
   "source": [
    "knn=KNeighborsClassifier()\n",
    "knn.fit(X_train,y_train)\n",
    "y_pred = knn.predict(X_test)\n",
    "print(accuracy_score(y_test,y_pred))"
   ]
  },
  {
   "cell_type": "code",
   "execution_count": 70,
   "metadata": {},
   "outputs": [
    {
     "data": {
      "image/png": "[encoded data removed]",
      "text/plain": [
       "<Figure size 432x288 with 2 Axes>"
      ]
     },
     "metadata": {
      "needs_background": "light"
     },
     "output_type": "display_data"
    }
   ],
   "source": [
    "cm = confusion_matrix(y_test,y_pred)\n",
    "sb.heatmap(cm,annot=True,cmap='plasma');"
   ]
  },
  {
   "cell_type": "code",
   "execution_count": 71,
   "metadata": {},
   "outputs": [
    {
     "name": "stdout",
     "output_type": "stream",
     "text": [
      "0.9518518518518518\n"
     ]
    }
   ],
   "source": [
    "dt=DecisionTreeClassifier()\n",
    "dt.fit(X_train,y_train)\n",
    "y_pred = dt.predict(X_test)\n",
    "print(accuracy_score(y_test,y_pred))"
   ]
  },
  {
   "cell_type": "code",
   "execution_count": 72,
   "metadata": {},
   "outputs": [
    {
     "data": {
      "image/png": "[encoded data removed]",
      "text/plain": [
       "<Figure size 432x288 with 2 Axes>"
      ]
     },
     "metadata": {
      "needs_background": "light"
     },
     "output_type": "display_data"
    }
   ],
   "source": [
    "cm = confusion_matrix(y_test,y_pred)\n",
    "sb.heatmap(cm,annot=True,cmap='plasma');"
   ]
  },
  {
   "cell_type": "code",
   "execution_count": 73,
   "metadata": {},
   "outputs": [
    {
     "name": "stdout",
     "output_type": "stream",
     "text": [
      "0.9407407407407408\n"
     ]
    }
   ],
   "source": [
    "rf=RandomForestClassifier()\n",
    "rf.fit(X_train,y_train)\n",
    "y_pred = rf.predict(X_test)\n",
    "print(accuracy_score(y_test,y_pred))"
   ]
  },
  {
   "cell_type": "code",
   "execution_count": 74,
   "metadata": {},
   "outputs": [
    {
     "data": {
      "image/png": "[encoded data removed]",
      "text/plain": [
       "<Figure size 432x288 with 2 Axes>"
      ]
     },
     "metadata": {
      "needs_background": "light"
     },
     "output_type": "display_data"
    }
   ],
   "source": [
    "cm = confusion_matrix(y_test,y_pred)\n",
    "sb.heatmap(cm,annot=True,cmap='plasma');"
   ]
  },
  {
   "cell_type": "code",
   "execution_count": 75,
   "metadata": {},
   "outputs": [
    {
     "name": "stdout",
     "output_type": "stream",
     "text": [
      "0.9333333333333333\n"
     ]
    }
   ],
   "source": [
    "gb=GradientBoostingClassifier()\n",
    "gb.fit(X_train,y_train)\n",
    "y_preds=gb.predict(X_test)\n",
    "print(accuracy_score(y_test,y_preds))"
   ]
  },
  {
   "cell_type": "code",
   "execution_count": 76,
   "metadata": {},
   "outputs": [
    {
     "data": {
      "image/png": "[encoded data removed]",
      "text/plain": [
       "<Figure size 432x288 with 2 Axes>"
      ]
     },
     "metadata": {
      "needs_background": "light"
     },
     "output_type": "display_data"
    }
   ],
   "source": [
    "cm = confusion_matrix(y_test,y_preds)\n",
    "sb.heatmap(cm,annot=True,cmap='plasma');"
   ]
  },
  {
   "cell_type": "code",
   "execution_count": 77,
   "metadata": {},
   "outputs": [
    {
     "data": {
      "text/plain": [
       "Index(['CRT REGISTERED (Y/N)', 'BRANCH', 'GENDER', 'Placement Status',\n",
       "       'GRADE X \\n(CGPA)', 'INTER OR POLY', 'GRADE XII\\n OR POLY(%)',\n",
       "       'UG\\n(CGPA)', 'NO. OF BACKLOGS'],\n",
       "      dtype='object')"
      ]
     },
     "execution_count": 77,
     "metadata": {},
     "output_type": "execute_result"
    }
   ],
   "source": [
    "data.columns"
   ]
  },
  {
   "cell_type": "code",
   "execution_count": 78,
   "metadata": {},
   "outputs": [],
   "source": [
    "def get_result():\n",
    "    input_features=[]\n",
    "    crt=int(input('CRT(1) or NON-CRT(0)'))\n",
    "    branch=int(input(\"'CSE':5,'ECE':4,'EEE':3,'ME':2,'CIVIL':1=\"))\n",
    "    gender=int(input(\"Male(0) Female(1):\"))\n",
    "    gradex=float(input(\"Enter CGPA of 10th:\"))\n",
    "    highschool=int(input(\"Enter (0) for diploma and (1) for inter:\"))\n",
    "    highper=float(input(\"Enter percentage of 12th:\"))\n",
    "    btech=float(input(\"Enter b.tech cgpa:\"))\n",
    "    backlogs=int(input(\"Backlogs:\"))\n",
    "    result=rf.predict([[crt,branch,gender,gradex,highschool,highper,btech,backlogs]])\n",
    "    \n",
    "    if result==1:\n",
    "        print('Will get placed')\n",
    "    else:\n",
    "        print('Need to Improve Skills')"
   ]
  },
  {
   "cell_type": "code",
   "execution_count": 79,
   "metadata": {},
   "outputs": [
    {
     "name": "stdout",
     "output_type": "stream",
     "text": [
      "CRT(1) or NON-CRT(0)0\n",
      "'CSE':5,'ECE':4,'EEE':3,'ME':2,'CIVIL':1=1\n",
      "Male(0) Female(1):0\n",
      "Enter CGPA of 10th:6\n",
      "Enter (0) for diploma and (1) for inter:1\n",
      "Enter percentage of 12th:60\n",
      "Enter b.tech cgpa:6\n",
      "Backlogs:4\n",
      "Need to Improve Skills\n"
     ]
    },
    {
     "name": "stderr",
     "output_type": "stream",
     "text": [
      "C:\\Users\\BHARAT\\anaconda3\\lib\\site-packages\\sklearn\\base.py:450: UserWarning: X does not have valid feature names, but RandomForestClassifier was fitted with feature names\n",
      "  warnings.warn(\n"
     ]
    }
   ],
   "source": [
    "get_result()"
   ]
  },
  {
   "cell_type": "code",
   "execution_count": 82,
   "metadata": {},
   "outputs": [
    {
     "name": "stdout",
     "output_type": "stream",
     "text": [
      "CRT(1) or NON-CRT(0)1\n",
      "'CSE':5,'ECE':4,'EEE':3,'ME':2,'CIVIL':1=5\n",
      "Male(0) Female(1):0\n",
      "Enter CGPA of 10th:9.2\n",
      "Enter (0) for diploma and (1) for inter:1\n",
      "Enter percentage of 12th:90\n",
      "Enter b.tech cgpa:9\n",
      "Backlogs:0\n",
      "Will get placed\n"
     ]
    },
    {
     "name": "stderr",
     "output_type": "stream",
     "text": [
      "C:\\Users\\BHARAT\\anaconda3\\lib\\site-packages\\sklearn\\base.py:450: UserWarning: X does not have valid feature names, but RandomForestClassifier was fitted with feature names\n",
      "  warnings.warn(\n"
     ]
    }
   ],
   "source": [
    "get_result()"
   ]
  },
  {
   "cell_type": "code",
   "execution_count": 81,
   "metadata": {},
   "outputs": [],
   "source": [
    "import pickle\n",
    "file = open('campusplacementpredictor.pkl','wb')\n",
    "pickle.dump(rf,file)\n",
    "file.close()"
   ]
  },
  {
   "cell_type": "code",
   "execution_count": null,
   "metadata": {},
   "outputs": [],
   "source": []
  }
 ],
 "metadata": {
  "kernelspec": {
   "display_name": "Python 3",
   "language": "python",
   "name": "python3"
  },
  "language_info": {
   "codemirror_mode": {
    "name": "ipython",
    "version": 3
   },
   "file_extension": ".py",
   "mimetype": "text/x-python",
   "name": "python",
   "nbconvert_exporter": "python",
   "pygments_lexer": "ipython3",
   "version": "3.8.5"
  }
 },
 "nbformat": 4,
 "nbformat_minor": 4
}
